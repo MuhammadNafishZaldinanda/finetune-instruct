{
 "cells": [
  {
   "cell_type": "markdown",
   "id": "6c686be6-bf4c-41bc-9e14-1bffa426aa50",
   "metadata": {},
   "source": [
    "# Import Data"
   ]
  },
  {
   "cell_type": "code",
   "execution_count": 1,
   "id": "9cc6e0b4-4ca5-43f3-b06d-ba9a0600dcc3",
   "metadata": {},
   "outputs": [
    {
     "data": {
      "text/html": [
       "<div>\n",
       "<style scoped>\n",
       "    .dataframe tbody tr th:only-of-type {\n",
       "        vertical-align: middle;\n",
       "    }\n",
       "\n",
       "    .dataframe tbody tr th {\n",
       "        vertical-align: top;\n",
       "    }\n",
       "\n",
       "    .dataframe thead th {\n",
       "        text-align: right;\n",
       "    }\n",
       "</style>\n",
       "<table border=\"1\" class=\"dataframe\">\n",
       "  <thead>\n",
       "    <tr style=\"text-align: right;\">\n",
       "      <th></th>\n",
       "      <th>prompt</th>\n",
       "      <th>output</th>\n",
       "    </tr>\n",
       "  </thead>\n",
       "  <tbody>\n",
       "    <tr>\n",
       "      <th>0</th>\n",
       "      <td>How do I reset my password in the e-commerce '...</td>\n",
       "      <td>1. Open the app\\n2. Go to the login page\\n3. T...</td>\n",
       "    </tr>\n",
       "    <tr>\n",
       "      <th>1</th>\n",
       "      <td>How can I delete my account in the 'xx' mobile...</td>\n",
       "      <td>1. Open the app\\n2. Navigate to 'Settings'\\n3....</td>\n",
       "    </tr>\n",
       "    <tr>\n",
       "      <th>2</th>\n",
       "      <td>How do I change my phone number in the 'xx' app?</td>\n",
       "      <td>1. Open the app\\n2. Go to 'Profile'\\n3. Tap on...</td>\n",
       "    </tr>\n",
       "    <tr>\n",
       "      <th>3</th>\n",
       "      <td>How can I update my delivery address in the app?</td>\n",
       "      <td>1. Open the app\\n2. Navigate to 'Settings'\\n3....</td>\n",
       "    </tr>\n",
       "    <tr>\n",
       "      <th>4</th>\n",
       "      <td>How do I enable dark mode in the 'xx' mobile app?</td>\n",
       "      <td>1. Open the app\\n2. Go to 'Settings'\\n3. Tap '...</td>\n",
       "    </tr>\n",
       "  </tbody>\n",
       "</table>\n",
       "</div>"
      ],
      "text/plain": [
       "                                              prompt  \\\n",
       "0  How do I reset my password in the e-commerce '...   \n",
       "1  How can I delete my account in the 'xx' mobile...   \n",
       "2   How do I change my phone number in the 'xx' app?   \n",
       "3   How can I update my delivery address in the app?   \n",
       "4  How do I enable dark mode in the 'xx' mobile app?   \n",
       "\n",
       "                                              output  \n",
       "0  1. Open the app\\n2. Go to the login page\\n3. T...  \n",
       "1  1. Open the app\\n2. Navigate to 'Settings'\\n3....  \n",
       "2  1. Open the app\\n2. Go to 'Profile'\\n3. Tap on...  \n",
       "3  1. Open the app\\n2. Navigate to 'Settings'\\n3....  \n",
       "4  1. Open the app\\n2. Go to 'Settings'\\n3. Tap '...  "
      ]
     },
     "execution_count": 1,
     "metadata": {},
     "output_type": "execute_result"
    }
   ],
   "source": [
    "import pandas as pd\n",
    "\n",
    "df = pd.read_csv(\"/home/nafis/code/research-llm/NLP/finetuning/finetuning-instruct/dummy-data-instruct.csv\")\n",
    "df.head(5)"
   ]
  },
  {
   "cell_type": "markdown",
   "id": "ab21b9a5-fcab-4255-929e-6e097589ef46",
   "metadata": {},
   "source": [
    "# Load Model Tokenizer"
   ]
  },
  {
   "cell_type": "code",
   "execution_count": 2,
   "id": "a800e2b6-ae69-43b9-9fc1-69165c50906e",
   "metadata": {},
   "outputs": [
    {
     "name": "stdout",
     "output_type": "stream",
     "text": [
      "🦥 Unsloth: Will patch your computer to enable 2x faster free finetuning.\n",
      "🦥 Unsloth Zoo will now patch everything to make training faster!\n",
      "==((====))==  Unsloth 2025.5.6: Fast Qwen3 patching. Transformers: 4.51.3.\n",
      "   \\\\   /|    NVIDIA RTX 4000 SFF Ada Generation. Num GPUs = 3. Max memory: 19.57 GB. Platform: Linux.\n",
      "O^O/ \\_/ \\    Torch: 2.7.0+cu126. CUDA: 8.9. CUDA Toolkit: 12.6. Triton: 3.3.0\n",
      "\\        /    Bfloat16 = TRUE. FA [Xformers = 0.0.30. FA2 = False]\n",
      " \"-____-\"     Free license: http://github.com/unslothai/unsloth\n",
      "Unsloth: Fast downloading is enabled - ignore downloading bars which are red colored!\n"
     ]
    }
   ],
   "source": [
    "# 1. Import Dependencies\n",
    "from unsloth import FastLanguageModel\n",
    "from transformers import TrainingArguments\n",
    "import torch\n",
    "import pandas as pd\n",
    "import re\n",
    "\n",
    "# 2. Load Pretrained Model\n",
    "model, tokenizer = FastLanguageModel.from_pretrained(\n",
    "    model_name = \"unsloth/Qwen3-8B\",  \n",
    "    load_in_4bit = True,     # 4bit uses much less memory\n",
    "    load_in_8bit = False,    # A bit more accurate, uses 2x memory\n",
    "    full_finetuning = False, # We have full finetuning now!\n",
    "    dtype = None\n",
    ")"
   ]
  },
  {
   "cell_type": "markdown",
   "id": "1c8fee37-d97c-4b17-bce3-5dd6bea057a5",
   "metadata": {},
   "source": [
    "# Konversi ke Format Chat Template dan Hitung Panjang Token"
   ]
  },
  {
   "cell_type": "code",
   "execution_count": 3,
   "id": "bbf51cfa-e2d4-4303-9735-dddb88cb6095",
   "metadata": {},
   "outputs": [
    {
     "data": {
      "text/plain": [
       "[\"<|im_start|>user\\nHow do I reset my password in the e-commerce 'xx' mobile app?<|im_end|>\\n<|im_start|>assistant\\n<think>\\n\\n</think>\\n\\n1. Open the app\\n2. Go to the login page\\n3. Tap on 'Forgot Password'\\n4. Enter your registered email\\n5. Tap 'Submit'\\n6. Check your email and reset password<|im_end|>\\n\",\n",
       " \"<|im_start|>user\\nHow can I delete my account in the 'xx' mobile app?<|im_end|>\\n<|im_start|>assistant\\n<think>\\n\\n</think>\\n\\n1. Open the app\\n2. Navigate to 'Settings'\\n3. Select 'Account'\\n4. Tap 'Delete Account'\\n5. Enter your PIN to confirm<|im_end|>\\n\",\n",
       " \"<|im_start|>user\\nHow do I change my phone number in the 'xx' app?<|im_end|>\\n<|im_start|>assistant\\n<think>\\n\\n</think>\\n\\n1. Open the app\\n2. Go to 'Profile'\\n3. Tap on 'Edit Phone Number'\\n4. Enter the new number\\n5. Verify with OTP<|im_end|>\\n\",\n",
       " \"<|im_start|>user\\nHow can I update my delivery address in the app?<|im_end|>\\n<|im_start|>assistant\\n<think>\\n\\n</think>\\n\\n1. Open the app\\n2. Navigate to 'Settings'\\n3. Tap on 'Delivery Address'\\n4. Add or edit the address\\n5. Save changes<|im_end|>\\n\",\n",
       " \"<|im_start|>user\\nHow do I enable dark mode in the 'xx' mobile app?<|im_end|>\\n<|im_start|>assistant\\n<think>\\n\\n</think>\\n\\n1. Open the app\\n2. Go to 'Settings'\\n3. Tap 'Appearance'\\n4. Select 'Dark Mode'<|im_end|>\\n\",\n",
       " \"<|im_start|>user\\nHow do I check my order history in the 'xx' app?<|im_end|>\\n<|im_start|>assistant\\n<think>\\n\\n</think>\\n\\n1. Launch the app\\n2. Tap on 'Orders'\\n3. View list of past orders<|im_end|>\\n\",\n",
       " \"<|im_start|>user\\nHow can I contact customer support from the app?<|im_end|>\\n<|im_start|>assistant\\n<think>\\n\\n</think>\\n\\n1. Open the app\\n2. Go to 'Help Center'\\n3. Select 'Contact Support'\\n4. Choose chat or email option<|im_end|>\\n\",\n",
       " \"<|im_start|>user\\nHow do I apply a promo code during checkout?<|im_end|>\\n<|im_start|>assistant\\n<think>\\n\\n</think>\\n\\n1. Add items to cart\\n2. Proceed to checkout\\n3. Enter promo code in the provided field\\n4. Tap 'Apply'\\n5. Complete payment<|im_end|>\\n\",\n",
       " \"<|im_start|>user\\nHow do I enable push notifications in the app?<|im_end|>\\n<|im_start|>assistant\\n<think>\\n\\n</think>\\n\\n1. Open the app\\n2. Navigate to 'Settings'\\n3. Tap 'Notifications'\\n4. Enable push notifications<|im_end|>\\n\",\n",
       " \"<|im_start|>user\\nHow can I change the language of the app?<|im_end|>\\n<|im_start|>assistant\\n<think>\\n\\n</think>\\n\\n1. Open the app\\n2. Go to 'Settings'\\n3. Tap 'Language'\\n4. Select preferred language<|im_end|>\\n\"]"
      ]
     },
     "execution_count": 3,
     "metadata": {},
     "output_type": "execute_result"
    }
   ],
   "source": [
    "# Simpan hasil token count\n",
    "token_lengths = []\n",
    "\n",
    "# Simpan hasil format chat\n",
    "formatted_chats = []\n",
    "\n",
    "# Loop tiap baris dan proses\n",
    "for _, row in df.iterrows():\n",
    "    chat_list = [\n",
    "        { \"role\": \"user\", \"content\": row[\"prompt\"] },\n",
    "        { \"role\": \"assistant\", \"content\": row[\"output\"] } \n",
    "    ]\n",
    "    try:\n",
    "        # Ubah ke format chat string sesuai template Qwen\n",
    "        formatted = tokenizer.apply_chat_template(chat_list, tokenize=False)\n",
    "        formatted_chats.append(formatted)\n",
    "\n",
    "        # Tokenisasi dan hitung panjang token\n",
    "        tokens = tokenizer(formatted, add_special_tokens=False)[\"input_ids\"]\n",
    "        token_lengths.append(len(tokens))\n",
    "\n",
    "    except Exception as e:\n",
    "        print(\"Error formatting row:\", row)\n",
    "        print(\"Exception:\", e)\n",
    "\n",
    "formatted_chats"
   ]
  },
  {
   "cell_type": "markdown",
   "id": "8496748b-31d8-4407-af20-b84369f37c36",
   "metadata": {},
   "source": [
    "Format data diatas sudah siap digunakan dalam pipeline training"
   ]
  },
  {
   "cell_type": "code",
   "execution_count": 4,
   "id": "dff4c735-9b1c-46dd-bb56-36529c38cd39",
   "metadata": {},
   "outputs": [
    {
     "name": "stdout",
     "output_type": "stream",
     "text": [
      "Statistik Panjang Token\n",
      "----------------------------\n",
      "Min       : 48\n",
      "Max       : 73\n",
      "Rata-rata : 56.1\n"
     ]
    }
   ],
   "source": [
    "# Statistik Panjang Token\n",
    "print(\"Statistik Panjang Token\")\n",
    "print(\"----------------------------\")\n",
    "print(\"Min       :\", min(token_lengths))\n",
    "print(\"Max       :\", max(token_lengths))\n",
    "print(\"Rata-rata :\", sum(token_lengths) / len(token_lengths))"
   ]
  },
  {
   "cell_type": "markdown",
   "id": "808e0672-edc7-4d56-8254-f7ee640f34c1",
   "metadata": {},
   "source": [
    "Statistik ini akan menjadi acuan dalam menentukan parameter `max_seq_length`."
   ]
  }
 ],
 "metadata": {
  "kernelspec": {
   "display_name": "Python 3 (ipykernel)",
   "language": "python",
   "name": "python3"
  },
  "language_info": {
   "codemirror_mode": {
    "name": "ipython",
    "version": 3
   },
   "file_extension": ".py",
   "mimetype": "text/x-python",
   "name": "python",
   "nbconvert_exporter": "python",
   "pygments_lexer": "ipython3",
   "version": "3.10.0"
  }
 },
 "nbformat": 4,
 "nbformat_minor": 5
}
