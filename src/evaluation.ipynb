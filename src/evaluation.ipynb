{
 "cells": [
  {
   "cell_type": "markdown",
   "id": "acbbcf29-a527-41d5-9461-75eb7eec18c4",
   "metadata": {},
   "source": [
    "# Rouge-L"
   ]
  },
  {
   "cell_type": "code",
   "execution_count": null,
   "id": "17f9ce3b-064c-4b7c-9f54-8ac3506e61f4",
   "metadata": {},
   "outputs": [],
   "source": [
    "import evaluate\n",
    "import pandas as pd\n",
    "\n",
    "# Contoh data predict dan reference (gold)\n",
    "data = {\n",
    "    \"gold\": [\n",
    "        \"1. Buka aplikasi e-commerce. 2. Masuk ke halaman login. 3. Tekan tautan 'Lupa Password'. 4. Masukkan email terdaftar. 5. Tekan 'Kirim'. 6. Periksa email. 7. Atur ulang kata sandi.\",\n",
    "        \"1. Masuk ke menu Pengaturan. 2. Pilih opsi 'Akun'. 3. Klik 'Hapus Akun'. 4. Konfirmasi penghapusan dengan PIN. 5. Akun akan dihapus permanen.\",\n",
    "        \"1. Buka aplikasi perbankan. 2. Pilih 'Transfer'. 3. Masukkan nomor rekening tujuan. 4. Masukkan jumlah. 5. Klik 'Lanjut'. 6. Konfirmasi PIN.\"\n",
    "    ],\n",
    "    \"pred\": [\n",
    "        \"1. Buka aplikasi. 2. Akses halaman login. 3. Klik 'Lupa Password'. 4. Ketik email kamu. 5. Klik Kirim. 6. Cek email. 7. Buat password baru.\",\n",
    "        \"1. Buka Pengaturan. 2. Pilih 'Akun'. 3. Tekan 'Hapus Akun'. 4. Masukkan PIN untuk konfirmasi. 5. Akun kamu akan dihapus.\",\n",
    "        \"1. Buka app bank. 2. Klik menu Transfer. 3. Isi rekening tujuan. 4. Tentukan nominal. 5. Tekan Lanjut. 6. Masukkan PIN untuk konfirmasi.\"\n",
    "    ]\n",
    "}\n",
    "df = pd.DataFrame(data)\n",
    "\n",
    "\n",
    "\n",
    "# Bersihkan dan pastikan kolom bertipe string\n",
    "df[\"gold\"] = df[\"gold\"].astype(str).str.strip()\n",
    "df[\"pred\"] = df[\"pred\"].astype(str).str.strip()\n",
    "\n",
    "# Load rouge evaluator\n",
    "rouge = evaluate.load(\"rouge\")\n",
    "\n",
    "# Hitung ROUGE score\n",
    "results = rouge.compute(predictions=df[\"pred\"].tolist(), references=df[\"gold\"].tolist())\n",
    "\n",
    "print(f\"ROUGE-L F1: {results['rougeL'] * 100:.2f}\")"
   ]
  },
  {
   "cell_type": "markdown",
   "id": "431a6f72-03a1-4631-8798-3acc2d768284",
   "metadata": {},
   "source": [
    "# METEOR"
   ]
  },
  {
   "cell_type": "code",
   "execution_count": null,
   "id": "4a953199-48f1-4a48-a303-64a4112a6d74",
   "metadata": {},
   "outputs": [],
   "source": [
    "import evaluate\n",
    "import pandas as pd\n",
    "\n",
    "# Contoh data predict dan reference (gold)\n",
    "data = {\n",
    "    \"gold\": [\n",
    "        \"1. Buka aplikasi e-commerce. 2. Masuk ke halaman login. 3. Tekan tautan 'Lupa Password'. 4. Masukkan email terdaftar. 5. Tekan 'Kirim'. 6. Periksa email. 7. Atur ulang kata sandi.\",\n",
    "        \"1. Masuk ke menu Pengaturan. 2. Pilih opsi 'Akun'. 3. Klik 'Hapus Akun'. 4. Konfirmasi penghapusan dengan PIN. 5. Akun akan dihapus permanen.\",\n",
    "        \"1. Buka aplikasi perbankan. 2. Pilih 'Transfer'. 3. Masukkan nomor rekening tujuan. 4. Masukkan jumlah. 5. Klik 'Lanjut'. 6. Konfirmasi PIN.\"\n",
    "    ],\n",
    "    \"pred\": [\n",
    "        \"1. Buka aplikasi. 2. Akses halaman login. 3. Klik 'Lupa Password'. 4. Ketik email kamu. 5. Klik Kirim. 6. Cek email. 7. Buat password baru.\",\n",
    "        \"1. Buka Pengaturan. 2. Pilih 'Akun'. 3. Tekan 'Hapus Akun'. 4. Masukkan PIN untuk konfirmasi. 5. Akun kamu akan dihapus.\",\n",
    "        \"1. Buka app bank. 2. Klik menu Transfer. 3. Isi rekening tujuan. 4. Tentukan nominal. 5. Tekan Lanjut. 6. Masukkan PIN untuk konfirmasi.\"\n",
    "    ]\n",
    "}\n",
    "df = pd.DataFrame(data)\n",
    "\n",
    "meteor = evaluate.load(\"meteor\")\n",
    "results = meteor.compute(predictions=df[\"pred\"].tolist(), references=df[\"gold\"].tolist())\n",
    "\n",
    "print(f\"METEOR Score: {results['meteor'] * 100:.2f}\")"
   ]
  }
 ],
 "metadata": {
  "kernelspec": {
   "display_name": "Python 3 (ipykernel)",
   "language": "python",
   "name": "python3"
  },
  "language_info": {
   "codemirror_mode": {
    "name": "ipython",
    "version": 3
   },
   "file_extension": ".py",
   "mimetype": "text/x-python",
   "name": "python",
   "nbconvert_exporter": "python",
   "pygments_lexer": "ipython3",
   "version": "3.10.0"
  }
 },
 "nbformat": 4,
 "nbformat_minor": 5
}
