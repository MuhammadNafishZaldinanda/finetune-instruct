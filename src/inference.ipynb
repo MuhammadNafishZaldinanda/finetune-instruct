{
 "cells": [
  {
   "cell_type": "markdown",
   "id": "9bc60ab4",
   "metadata": {},
   "source": [
    "# Framework HF"
   ]
  },
  {
   "cell_type": "code",
   "execution_count": null,
   "id": "566201b0",
   "metadata": {},
   "outputs": [],
   "source": [
    "from transformers import AutoModelForCausalLM, AutoTokenizer\n",
    "\n",
    "model_path = \"Qwen/Qwen3-8B\"\n",
    "\n",
    "# load the tokenizer and the model\n",
    "tokenizer = AutoTokenizer.from_pretrained(model_path)\n",
    "model = AutoModelForCausalLM.from_pretrained(\n",
    "    model_path,\n",
    "    torch_dtype=\"auto\",\n",
    "    device_map=\"auto\"\n",
    ")\n",
    "\n",
    "# prepare the model input\n",
    "prompt = \"Cara mengganti password?\"\n",
    "messages = [\n",
    "    {\"role\": \"user\", \"content\": prompt}\n",
    "]\n",
    "text = tokenizer.apply_chat_template(\n",
    "    messages,\n",
    "    tokenize=False,\n",
    "    add_generation_prompt=True,\n",
    "    enable_thinking=False\n",
    ")\n",
    "model_inputs = tokenizer([text], return_tensors=\"pt\").to(model.device)\n",
    "\n",
    "# conduct text completion\n",
    "generated_ids = model.generate(\n",
    "    **model_inputs,\n",
    "    max_new_tokens=32768\n",
    ")\n",
    "output_ids = generated_ids[0][len(model_inputs.input_ids[0]):].tolist() \n",
    "\n",
    "# parsing thinking content\n",
    "try:\n",
    "    # rindex finding 151668 (</think>)\n",
    "    index = len(output_ids) - output_ids[::-1].index(151668)\n",
    "except ValueError:\n",
    "    index = 0\n",
    "\n",
    "answer = tokenizer.decode(output_ids[index:], skip_special_tokens=True).strip(\"\\n\")\n",
    "print(\"content:\", answer)"
   ]
  },
  {
   "cell_type": "markdown",
   "id": "62d22d82",
   "metadata": {},
   "source": [
    "# GGUF"
   ]
  },
  {
   "cell_type": "code",
   "execution_count": null,
   "id": "d4355ad8",
   "metadata": {},
   "outputs": [],
   "source": [
    "import re\n",
    "from llama_cpp import Llama\n",
    "\n",
    "# Initialize model\n",
    "model = Llama(\n",
    "    model_path=\"Qwen3-8B-Q4_K_M.gguf\",\n",
    "    n_ctx=1024,\n",
    "    max_tokens=1,\n",
    "    temperature=0.0,\n",
    "    top_p=0.95,\n",
    "    top_k=10,\n",
    "    verbose=False,\n",
    ")\n",
    "\n",
    "# Function to generate predictions using the model and measure inference time\n",
    "def generate(input_text, system_prompt=\"\", max_length=1024):\n",
    "    messages = [\n",
    "        {\"role\": \"user\", \"content\": f\"{input_text}\"},\n",
    "    ]\n",
    "    outputs = model.create_chat_completion(messages=messages, max_tokens=max_length)\n",
    "    raw_result = outputs[\"choices\"][0][\"message\"][\"content\"]\n",
    "    \n",
    "    # Remove <think>...</think> block\n",
    "    result = re.sub(r\"<think>.*?</think>\", \"\", raw_result, flags=re.DOTALL).strip()\n",
    "    result = result.splitlines()[-1].strip()\n",
    "    \n",
    "    return result\n",
    "\n",
    "#Example Usage\n",
    "text = \"Bagaimana cara mengganti password?\"\n",
    "result, inference_time = generate(text)\n",
    "print(f\"{result}\")"
   ]
  }
 ],
 "metadata": {
  "kernelspec": {
   "display_name": "mcp",
   "language": "python",
   "name": "python3"
  },
  "language_info": {
   "name": "python",
   "version": "3.10.13"
  }
 },
 "nbformat": 4,
 "nbformat_minor": 5
}
